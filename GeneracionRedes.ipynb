{
 "cells": [
  {
   "attachments": {},
   "cell_type": "markdown",
   "metadata": {},
   "source": [
    "# Imports y Tipos"
   ]
  },
  {
   "cell_type": "code",
   "execution_count": 1,
   "metadata": {},
   "outputs": [
    {
     "name": "stdout",
     "output_type": "stream",
     "text": [
      "23/02/23 18:12:52 WARN NativeCodeLoader: Unable to load native-hadoop library for your platform... using builtin-java classes where applicable\n"
     ]
    },
    {
     "name": "stderr",
     "output_type": "stream",
     "text": [
      "Setting default log level to \"WARN\".\n",
      "To adjust logging level use sc.setLogLevel(newLevel). For SparkR, use setLogLevel(newLevel).\n"
     ]
    }
   ],
   "source": [
    "from dotenv import load_dotenv\n",
    "import os\n",
    "load_dotenv()\n",
    "\n",
    "from functools import reduce\n",
    "\n",
    "import json\n",
    "\n",
    "from h3 import h3\n",
    "\n",
    "import pyspark\n",
    "from pyspark.sql import SparkSession\n",
    "from pyspark.sql.functions import col, pandas_udf, lit, to_date, when, array\n",
    "from pyspark.sql import functions as F\n",
    "from pyspark.sql.types import LongType, StringType, StructField, StructType, ArrayType, IntegerType\n",
    "from h3_pyspark.indexing import index_shape\n",
    "import h3_pyspark\n",
    "from pyspark.sql.window import Window\n",
    "\n",
    "from datetime import timedelta, date\n",
    "\n",
    "import numpy as np\n",
    "import matplotlib.pyplot as plt\n",
    "import networkx as nx\n",
    "\n",
    "from math import ceil, floor\n",
    "\n",
    "spark = SparkSession.builder \\\n",
    "                .config(\"spark.jars\", \"./utils/postgresql-42.5.1.jar\") \\\n",
    "                .master(\"local[40]\") \\\n",
    "                .config(\"spark.driver.memory\", \"50g\") \\\n",
    "                .config(\"spark.executor.memory\", \"50g\") \\\n",
    "                .appName(\"Generacion de Redes\") \\\n",
    "                .getOrCreate()\n"
   ]
  },
  {
   "cell_type": "code",
   "execution_count": 2,
   "metadata": {},
   "outputs": [],
   "source": [
    "SparkDataFrame = pyspark.sql.dataframe.DataFrame"
   ]
  },
  {
   "attachments": {},
   "cell_type": "markdown",
   "metadata": {},
   "source": [
    "# Carga de Datos"
   ]
  },
  {
   "cell_type": "code",
   "execution_count": 3,
   "metadata": {},
   "outputs": [],
   "source": [
    "DAY = \"01\"\n",
    "MONTH = \"12\"\n",
    "YEAR = \"2020\""
   ]
  },
  {
   "attachments": {},
   "cell_type": "markdown",
   "metadata": {},
   "source": [
    "Los datos de movilidad `(MOVILIDAD_RAW)` consiste de una colección de pings anonimizados que se obtienen a partir de dispositivos de individuos y sirven para estimar la posición de este último.\n",
    "\n",
    "Consideraciones:\n",
    "- Sólo se toman registros cuya precisión horizontal (`horizontal_accuracy`) sea mayor o igual a 100"
   ]
  },
  {
   "cell_type": "code",
   "execution_count": 4,
   "metadata": {},
   "outputs": [
    {
     "name": "stderr",
     "output_type": "stream",
     "text": [
      "                                                                                \r"
     ]
    }
   ],
   "source": [
    "MOVILIDAD_RAW = spark.read.option(\"header\", True).parquet(f'{os.environ[f\"MOVILIDAD_RAW_{YEAR}\"]}/month={MONTH}/day={DAY}') \\\n",
    "    .distinct() \\\n",
    "    .where(col(\"horizontal_accuracy\") >= lit(100.0)) \\\n",
    "    .withColumn(\"utc_datetime\", F.from_unixtime(col(\"utc_timestamp\"))) \\\n",
    "    .withColumn(\"cdmx_datetime\", F.from_utc_timestamp(col(\"utc_datetime\"), \"America/Mexico_City\")) \\\n",
    "    .select(\"utc_timestamp\", \"cdmx_datetime\", \"caid\", \"latitude\", \"longitude\", \"horizontal_accuracy\")"
   ]
  },
  {
   "cell_type": "code",
   "execution_count": 5,
   "metadata": {},
   "outputs": [
    {
     "name": "stdout",
     "output_type": "stream",
     "text": [
      "root\n",
      " |-- utc_timestamp: long (nullable = true)\n",
      " |-- cdmx_datetime: timestamp (nullable = true)\n",
      " |-- caid: string (nullable = true)\n",
      " |-- latitude: double (nullable = true)\n",
      " |-- longitude: double (nullable = true)\n",
      " |-- horizontal_accuracy: double (nullable = true)\n",
      "\n"
     ]
    },
    {
     "name": "stderr",
     "output_type": "stream",
     "text": [
      "[Stage 1:======================================================>  (40 + 2) / 42]\r"
     ]
    },
    {
     "name": "stdout",
     "output_type": "stream",
     "text": [
      "+-------------+-------------------+--------------------+---------+-----------+-------------------+\n",
      "|utc_timestamp|      cdmx_datetime|                caid| latitude|  longitude|horizontal_accuracy|\n",
      "+-------------+-------------------+--------------------+---------+-----------+-------------------+\n",
      "|   1606869915|2020-12-01 18:45:15|a3828812812f14feb...|19.451782| -99.131968|              499.0|\n",
      "|   1606870525|2020-12-01 18:55:25|376df0b6b1107c827...|19.503551| -99.249922|              397.0|\n",
      "|   1606874313|2020-12-01 19:58:33|c551c338d0d9d56f7...|16.223419| -97.267082|              137.6|\n",
      "|   1606855109|2020-12-01 14:38:29|8857115751e523e3f...|20.562797|-103.462024|              115.8|\n",
      "|   1606843886|2020-12-01 11:31:26|4736962bdedce1e4c...|19.350971| -99.026819|              121.4|\n",
      "+-------------+-------------------+--------------------+---------+-----------+-------------------+\n",
      "only showing top 5 rows\n",
      "\n"
     ]
    },
    {
     "name": "stderr",
     "output_type": "stream",
     "text": [
      "                                                                                \r"
     ]
    }
   ],
   "source": [
    "MOVILIDAD_RAW.printSchema()\n",
    "MOVILIDAD_RAW.show(5)"
   ]
  },
  {
   "cell_type": "code",
   "execution_count": 6,
   "metadata": {},
   "outputs": [
    {
     "name": "stderr",
     "output_type": "stream",
     "text": [
      "                                                                                \r"
     ]
    },
    {
     "data": {
      "text/plain": [
       "1329372"
      ]
     },
     "execution_count": 6,
     "metadata": {},
     "output_type": "execute_result"
    }
   ],
   "source": [
    "MOVILIDAD_RAW.count()"
   ]
  },
  {
   "attachments": {},
   "cell_type": "markdown",
   "metadata": {},
   "source": [
    "El catálogo de AGEB's (`AGEBS_VM`) fue obtenido a partir de los [datos que provee el INEGI]() de estas últimas. De todos los campos que posee resaltan:\n",
    "- `cve_geo`: Un identificador de cada una de las AGEBs\n",
    "- `geometry`: Definición en formato Json del polígono que delimita el área de AGEB\n",
    "\n",
    "Únicamente contiene AGEBS que se consolidan dentro del área del Valle de México. Abarca los agebs de CDMX, Edo. de México y algunas partes de Hidalgo"
   ]
  },
  {
   "cell_type": "code",
   "execution_count": 7,
   "metadata": {},
   "outputs": [],
   "source": [
    "zonas_metropolitanas_2015 = spark.read.option(\"header\", True).csv(\"./raw_data/zonas_metropolitanas_2015.csv\")\n",
    "zonasMetropolitanas_vm = zonas_metropolitanas_2015.where(col(\"CVE_ZM\") == lit(\"09.01\"))\n",
    "all_agebs = spark.read.parquet(\"./raw_data/utils/ageb_catalog/\")\n",
    "\n",
    "AGEBS_VM = zonas_metropolitanas_2015.join(all_agebs\n",
    "        , zonas_metropolitanas_2015.NOM_MUN == all_agebs.nom_agem\n",
    "        , how=\"left\") \\\n",
    "    .where(\n",
    "        (col(\"cve_agee\") == lit(\"09\")) | (col(\"cve_agee\") == lit(\"13\")) | (col(\"cve_agee\") == lit(\"15\"))\n",
    "    ) \\\n",
    "    .select(\"cve_geo\", \"cve_agee\", \"cve_agem\", \"cve_loc\", \"cve_ageb\"\n",
    "    , \"nom_agee\", \"nom_agem\", \"geometry\", \"type\", col(\"CVE_ENT\").alias(\"cve_ent\"))"
   ]
  },
  {
   "cell_type": "code",
   "execution_count": 8,
   "metadata": {},
   "outputs": [
    {
     "name": "stdout",
     "output_type": "stream",
     "text": [
      "root\n",
      " |-- cve_geo: string (nullable = true)\n",
      " |-- cve_agee: string (nullable = true)\n",
      " |-- cve_agem: string (nullable = true)\n",
      " |-- cve_loc: string (nullable = true)\n",
      " |-- cve_ageb: string (nullable = true)\n",
      " |-- nom_agee: string (nullable = true)\n",
      " |-- nom_agem: string (nullable = true)\n",
      " |-- geometry: string (nullable = true)\n",
      " |-- type: string (nullable = true)\n",
      " |-- cve_ent: string (nullable = true)\n",
      "\n",
      "+-------------+--------+--------+-------+--------+----------------+----------+--------------------+------+-------+\n",
      "|      cve_geo|cve_agee|cve_agem|cve_loc|cve_ageb|        nom_agee|  nom_agem|            geometry|  type|cve_ent|\n",
      "+-------------+--------+--------+-------+--------+----------------+----------+--------------------+------+-------+\n",
      "|150120001007A|      15|     012|   0001|    007A|          México|  Atizapán|{\"type\": \"MultiPo...|urbana|     15|\n",
      "|1510600010307|      15|     106|   0001|    0307|          México|    Toluca|{\"type\": \"MultiPo...|urbana|     15|\n",
      "|1505400491186|      15|     054|   0049|    1186|          México|   Metepec|{\"type\": \"MultiPo...|urbana|     15|\n",
      "|0900700010905|      09|     007|   0001|    0905|Distrito Federal|Iztapalapa|{\"type\": \"MultiPo...|urbana|     09|\n",
      "|1510900031044|      15|     109|   0003|    1044|          México| Tultitlán|{\"type\": \"MultiPo...|urbana|     15|\n",
      "+-------------+--------+--------+-------+--------+----------------+----------+--------------------+------+-------+\n",
      "only showing top 5 rows\n",
      "\n"
     ]
    }
   ],
   "source": [
    "AGEBS_VM.printSchema()\n",
    "AGEBS_VM.show(5)"
   ]
  },
  {
   "attachments": {},
   "cell_type": "markdown",
   "metadata": {},
   "source": [
    "# Obtención de NTL"
   ]
  },
  {
   "attachments": {},
   "cell_type": "markdown",
   "metadata": {},
   "source": [
    "Un Nightime Location (NTL) hace referencia al lugar estimado en el que habita una persona. Se obtiene a partir del monitoreo de sus pings dentro de la ventana de tiempo 10pm - 6am."
   ]
  },
  {
   "cell_type": "code",
   "execution_count": 9,
   "metadata": {},
   "outputs": [],
   "source": [
    "def single_ntl(movilidad_df: SparkDataFrame, ageb_df: SparkDataFrame) -> SparkDataFrame:\n",
    "    \"\"\" Función encargada de obtener la colección de NTL ganadores por día de actividad\n",
    "    movilidad_df (SparkDataFrame) : Un data frame de Spark con el registro de actividad en el día d\n",
    "    ageb_df (SparkDataFrame) : Catálogo de AGEBS, debe de contener el shape (\"geometry\") de cada AGEB\n",
    "    \"\"\"\n",
    "\n",
    "    # Se filtran los pings para obtener aquellos dentro de la ventana 10pm - 6am\n",
    "    filtered_df = movilidad_df.where(\n",
    "        (F.hour(col(\"cdmx_datetime\")) >= 22) | (F.hour(col(\"cdmx_datetime\")) < 6)\n",
    "    )\n",
    "\n",
    "    # Se localizan los pings dentro de su correspondiente AGEB\n",
    "    indexed_df = filtered_df.withColumn(\"h3index_5\", h3_pyspark.geo_to_h3(\"latitude\", \"longitude\", lit(5))) \\\n",
    "        .withColumn(\"h3index_12\", h3_pyspark.geo_to_h3(\"latitude\", \"longitude\", lit(12))) \\\n",
    "        .withColumn(\"h3index_15\", h3_pyspark.geo_to_h3(\"latitude\", \"longitude\", lit(15)))\n",
    "\n",
    "    agebs_indexed = ageb_df.select(\"cve_geo\", \"geometry\") \\\n",
    "        .withColumn(\"h3polyfill_5\", index_shape(\"geometry\", lit(5))) \\\n",
    "        .withColumn(\"h3polyfill_5\", F.explode(\"h3polyfill_5\")) \\\n",
    "        .withColumn(\"h3polyfill_12\", index_shape(\"geometry\", lit(12))) \\\n",
    "        .withColumn(\"h3polyfill_12\", F.explode(\"h3polyfill_12\"))\n",
    "    \n",
    "    located_df = indexed_df.join(agebs_indexed\n",
    "            , indexed_df.h3index_5 == agebs_indexed.h3polyfill_5\n",
    "            , how=\"left\") \\\n",
    "        .where(\n",
    "            (col(\"h3index_12\") == col(\"h3polyfill_12\"))\n",
    "        ) \\\n",
    "        .select(\"utc_timestamp\", \"cdmx_datetime\", \"caid\", \"h3index_15\", \"cve_geo\")\n",
    "\n",
    "    # Se agrupan los distintos pings existentes en ventanas de 10 minutos\n",
    "    clustered_df = located_df.withColumn(\"time_window\", F.window(\"cdmx_datetime\", \"600 seconds\"))\n",
    "\n",
    "    # Se calcula el número de clusters por AGEB que posee cada dispositivo\n",
    "    scored_df = clustered_df.groupBy(\"caid\", \"cve_geo\") \\\n",
    "        .agg(F.count(\"time_window\").alias(\"score\"))\n",
    "\n",
    "    # El ageb con mayor número de clusters registrados es denominado como ganador para ese día\n",
    "    w = Window().partitionBy(\"caid\").orderBy(col(\"score\").desc())\n",
    "    winners_df = scored_df.withColumn(\"rank\", F.row_number().over(w)) \\\n",
    "        .where(col(\"rank\") == 1) \\\n",
    "        .select(\"caid\", \"cve_geo\", \"score\")\n",
    "\n",
    "    return winners_df\n"
   ]
  },
  {
   "attachments": {},
   "cell_type": "markdown",
   "metadata": {},
   "source": [
    "Para calcular el NTL de un individuo es necesario revisar su actividad de los 15 días anteriores. En caso de no contarse con algún NTL candidato se asigna el AGEB ficticio \"0000000000000\""
   ]
  },
  {
   "cell_type": "code",
   "execution_count": 10,
   "metadata": {},
   "outputs": [],
   "source": [
    "def last_n_days_ntl(day: int, month: int, year: int, days_offset: int) -> SparkDataFrame :\n",
    "\n",
    "    # Se calcula la ventana de tiempo correspondiente a days_offset atrás\n",
    "    curr_day = date(year, month, day)\n",
    "    print(curr_day)\n",
    "    n_days_ago = timedelta(days=days_offset)\n",
    "    print(n_days_ago)\n",
    "    d0 = curr_day - n_days_ago\n",
    "    dn = curr_day - timedelta(days=1)\n",
    "    print(d0, dn)\n",
    "\n",
    "    date_range = [d0 + timedelta(days=x) for x in range(0, days_offset)]\n",
    "    \n",
    "    schema = StructType([\n",
    "        StructField('caid', StringType(), True),\n",
    "        StructField('cve_geo', StringType(), True),\n",
    "        StructField('score', IntegerType(), True)\n",
    "    ])\n",
    "\n",
    "    emptyRDD = spark.sparkContext.emptyRDD()\n",
    "    emptyDF = spark.createDataFrame(emptyRDD,schema)\n",
    "\n",
    "    df_acc = emptyDF\n",
    "\n",
    "    for d in date_range:\n",
    "\n",
    "        curr_df = spark.read.option(\"header\", True).parquet(f'{os.environ[f\"MOVILIDAD_RAW_{d.year}\"]}/month={str(d.month).zfill(2)}/day={str(d.day).zfill(2)}') \\\n",
    "            .distinct() \\\n",
    "            .where(col(\"horizontal_accuracy\") >= lit(100.0)) \\\n",
    "            .withColumn(\"utc_datetime\", F.from_unixtime(col(\"utc_timestamp\"))) \\\n",
    "            .withColumn(\"cdmx_datetime\", F.from_utc_timestamp(col(\"utc_datetime\"), \"America/Mexico_City\")) \\\n",
    "            .select(\"utc_timestamp\", \"cdmx_datetime\", \"caid\", \"latitude\", \"longitude\", \"horizontal_accuracy\")\n",
    "    \n",
    "        curr_ntl = single_ntl(curr_df, AGEBS_VM)\n",
    "\n",
    "        df_acc = df_acc.union(curr_ntl)\n",
    "\n",
    "    last_n_days_candidates = df_acc.groupBy(\"caid\", \"cve_geo\").count()\n",
    "\n",
    "    # TODO: Revisar que sean únicos las ntl\n",
    "    w = Window().partitionBy(\"caid\").orderBy(col(\"count\").desc())\n",
    "    ntl_df = last_n_days_candidates.withColumn(\"rank\", F.row_number().over(w)) \\\n",
    "        .where(col(\"rank\") == 1) \\\n",
    "        .select(\"caid\", \"cve_geo\")\n",
    "\n",
    "    return ntl_df"
   ]
  },
  {
   "cell_type": "code",
   "execution_count": 11,
   "metadata": {},
   "outputs": [
    {
     "name": "stdout",
     "output_type": "stream",
     "text": [
      "2020-12-01\n",
      "15 days, 0:00:00\n",
      "2020-11-16 2020-11-30\n"
     ]
    }
   ],
   "source": [
    "home_agebs_catalog = last_n_days_ntl(1, 12, 2020, 15)"
   ]
  },
  {
   "attachments": {},
   "cell_type": "markdown",
   "metadata": {},
   "source": [
    "Se obtiene la tabla de pings agregando el ntl estimado"
   ]
  },
  {
   "cell_type": "code",
   "execution_count": 12,
   "metadata": {},
   "outputs": [],
   "source": [
    "pings_table_pre = MOVILIDAD_RAW.join(home_agebs_catalog\n",
    "                , MOVILIDAD_RAW.caid == home_agebs_catalog.caid\n",
    "                , how=\"left\") \\\n",
    "    .withColumn(\"h3index_5\", h3_pyspark.geo_to_h3(\"latitude\", \"longitude\", lit(5))) \\\n",
    "    .withColumn(\"h3index_12\", h3_pyspark.geo_to_h3(\"latitude\", \"longitude\", lit(12))) \\\n",
    "    .withColumn(\"h3index_15\", h3_pyspark.geo_to_h3(\"latitude\", \"longitude\", lit(15))) \\\n",
    "    .withColumn(\"home_ageb\", F.when(~F.isnull(col(\"cve_geo\")), col(\"cve_geo\")).otherwise(lit(\"0000000000000\"))) \\\n",
    "    .withColumn(\"time_window\", F.window(\"cdmx_datetime\", \"600 seconds\")) \\\n",
    "    .select(\"utc_timestamp\", \"cdmx_datetime\", MOVILIDAD_RAW.caid, \"home_ageb\", \"h3index_5\", \"h3index_12\", \"h3index_15\", \"time_window\")"
   ]
  },
  {
   "cell_type": "code",
   "execution_count": 13,
   "metadata": {},
   "outputs": [
    {
     "name": "stderr",
     "output_type": "stream",
     "text": [
      "                                                                                \r"
     ]
    },
    {
     "data": {
      "text/plain": [
       "1329372"
      ]
     },
     "execution_count": 13,
     "metadata": {},
     "output_type": "execute_result"
    }
   ],
   "source": [
    "pings_table_pre.count()"
   ]
  },
  {
   "cell_type": "code",
   "execution_count": 14,
   "metadata": {},
   "outputs": [],
   "source": [
    "getting_ageb_df = AGEBS_VM.select(\"cve_geo\", \"geometry\") \\\n",
    "    .withColumn(\"h3polyfill_5\", index_shape(\"geometry\", lit(5))) \\\n",
    "    .withColumn(\"h3polyfill_5\", F.explode(\"h3polyfill_5\")) \\\n",
    "    .withColumn(\"h3polyfill_12\", index_shape(\"geometry\", lit(12))) \\\n",
    "    .withColumn(\"h3polyfill_12\", F.explode(\"h3polyfill_12\"))\n",
    "\n",
    "pings_table = pings_table_pre.join(getting_ageb_df\n",
    "        , pings_table_pre.h3index_5 == getting_ageb_df.h3polyfill_5\n",
    "        , how=\"left\") \\\n",
    "    .where(\n",
    "        (col(\"h3index_12\") == col(\"h3polyfill_12\")) \n",
    "    ) \\\n",
    "    .select(\"time_window\", \"caid\", \"home_ageb\"\n",
    "        , col(\"cve_geo\").alias(\"curr_geo\"), \"h3index_15\") \\\n",
    "    .distinct()\n",
    "\n",
    "#.where(\n",
    "#    (col(\"home_ageb\").isin([\"0900200010203\", \"0900200010222\", \"0900200010294\", \"0900200010472\", \"0900200010542\", \"0900200010580\", \"0900200010754\", \"0900200010769\"]))\n",
    "#) \\"
   ]
  },
  {
   "attachments": {},
   "cell_type": "markdown",
   "metadata": {},
   "source": [
    "A partir del cálculo de los NTL se obtiene una tabla que representa la posición de un individuo en distintas ventanas de tiempo distribuidas a lo largo del día así como el lugar donde vive aproximadamente:"
   ]
  },
  {
   "cell_type": "code",
   "execution_count": 15,
   "metadata": {},
   "outputs": [
    {
     "name": "stderr",
     "output_type": "stream",
     "text": [
      "                                                                                200]\r"
     ]
    },
    {
     "name": "stdout",
     "output_type": "stream",
     "text": [
      "+--------------------+--------------------+-------------+-------------+---------------+\n",
      "|         time_window|                caid|    home_ageb|     curr_geo|     h3index_15|\n",
      "+--------------------+--------------------+-------------+-------------+---------------+\n",
      "|{2020-12-01 13:20...|6ffb99347f07430e4...|0000000000000|1511800590416|8f4986722481314|\n",
      "|{2020-12-01 13:20...|30961309212cfe0dc...|1508100190109|1508100190109|8f499506c7532cc|\n",
      "|{2020-12-01 11:30...|ab994f9885b29d185...|0000000000000|1509900010828|8f499510b2d0512|\n",
      "|{2020-12-01 07:00...|e2068a2f4be1c129b...|1503300011059|1501000010253|8f499527419d715|\n",
      "|{2020-12-01 06:40...|09ba7ad3d8911f557...|0901300010654|0901300010654|8f499582ba50829|\n",
      "|{2020-12-01 19:00...|eb0723abca1bb3174...|0000000000000|0900800010118|8f499584dbb649b|\n",
      "|{2020-12-01 14:00...|0cf2403f15743d599...|0000000000000|0901600011090|8f4995b12504ccc|\n",
      "|{2020-12-01 15:40...|9b90eeb4c9d2cc3f6...|0000000000000|0901500011500|8f4995bb52e922b|\n",
      "|{2020-12-01 17:40...|beef989b73654b73b...|0000000000000|1510600831659|8f49867a4adc58a|\n",
      "|{2020-12-01 03:20...|ca9f1541f6651a58d...|1508800010133|1508800010059|8f4986cd3654c66|\n",
      "+--------------------+--------------------+-------------+-------------+---------------+\n",
      "only showing top 10 rows\n",
      "\n"
     ]
    },
    {
     "name": "stderr",
     "output_type": "stream",
     "text": [
      "                                                                                \r"
     ]
    },
    {
     "name": "stdout",
     "output_type": "stream",
     "text": [
      "No. Regs: 247060\n"
     ]
    },
    {
     "name": "stderr",
     "output_type": "stream",
     "text": [
      "                                                                                \r"
     ]
    },
    {
     "name": "stdout",
     "output_type": "stream",
     "text": [
      "No. Caids distintos: 46120\n"
     ]
    },
    {
     "name": "stderr",
     "output_type": "stream",
     "text": [
      "[Stage 862:==============================================>     (177 + 23) / 200]\r"
     ]
    },
    {
     "name": "stdout",
     "output_type": "stream",
     "text": [
      "No. AGEBs distintas: 5538\n"
     ]
    },
    {
     "name": "stderr",
     "output_type": "stream",
     "text": [
      "                                                                                \r"
     ]
    }
   ],
   "source": [
    "pings_table.persist().show(10)\n",
    "print(f\"No. Regs: {pings_table.count()}\")\n",
    "print(f\"No. Caids distintos: {pings_table.select('caid').distinct().count()}\")\n",
    "print(f\"No. AGEBs distintas: {pings_table.select('home_ageb').distinct().count()}\")"
   ]
  },
  {
   "cell_type": "code",
   "execution_count": 16,
   "metadata": {},
   "outputs": [],
   "source": [
    "#pings_table = pings_table.where((col(\"home_ageb\") == lit(\"0900200010114\")) | (col(\"home_ageb\") == lit(\"0900200010133\")) | (col(\"home_ageb\") == lit(\"0900200010203\")) | (col(\"home_ageb\") == lit(\"0000000000000\")) )\n",
    "#pings_table.count()"
   ]
  },
  {
   "attachments": {},
   "cell_type": "markdown",
   "metadata": {},
   "source": [
    "# Cálculo de interacciones"
   ]
  },
  {
   "attachments": {},
   "cell_type": "markdown",
   "metadata": {},
   "source": [
    "Para realizar el cálculo de interacciones entre individuos se busca relacionar todos aquellos registros que indican una interacción sobre la misma baldosa (H3 res. 15) en el mismo intervalo de tiempo (10 mins.) sin contar las **autointeracciones**, eliminando **duplicados debidos a múltiples contactos** y **sin eliminar los duplicados espejo** (.i.e., si a,b entonces se elimina b,a)"
   ]
  },
  {
   "cell_type": "code",
   "execution_count": 17,
   "metadata": {},
   "outputs": [
    {
     "name": "stderr",
     "output_type": "stream",
     "text": [
      "                                                                                \r"
     ]
    },
    {
     "name": "stdout",
     "output_type": "stream",
     "text": [
      "No. Interacciones totales (Con dupls.): 10540\n"
     ]
    },
    {
     "name": "stderr",
     "output_type": "stream",
     "text": [
      "[Stage 1422:=============>                                       (11 + 33) / 44]\r"
     ]
    },
    {
     "name": "stdout",
     "output_type": "stream",
     "text": [
      "No. Interacciones sin autointeracciones y sin dupls espejo: 5270\n"
     ]
    },
    {
     "name": "stderr",
     "output_type": "stream",
     "text": [
      "                                                                                \r"
     ]
    }
   ],
   "source": [
    "interactions_base = pings_table.alias(\"a\").join(pings_table.alias(\"b\")\n",
    "        , (col(\"a.h3index_15\") == col(\"b.h3index_15\")) & (col(\"a.time_window\") == col(\"b.time_window\"))\n",
    "        , how=\"inner\"\n",
    "    ) \\\n",
    "    .where(col(\"a.caid\") != col(\"b.caid\")) \\\n",
    "    .select(col(\"a.caid\").alias(\"caid_a\"), col(\"a.home_ageb\").alias(\"home_ageb_a\")\n",
    "        , col(\"b.caid\").alias(\"caid_b\"), col(\"b.home_ageb\").alias(\"home_ageb_b\")\n",
    "    ) \\\n",
    "    .distinct()\n",
    "\n",
    "print(f\"No. Interacciones totales (Con dupls.): {interactions_base.count()}\")\n",
    "\n",
    "mask = pings_table.alias(\"a\").join(pings_table.alias(\"b\")\n",
    "        , (col(\"a.h3index_15\") == col(\"b.h3index_15\")) & (col(\"a.time_window\") == col(\"b.time_window\"))\n",
    "        , how=\"inner\"\n",
    "    ) \\\n",
    "    .select(F.least(col(\"a.caid\"), col(\"b.caid\")).alias(\"caid_a\")\n",
    "            , F.greatest(col(\"a.caid\"), col(\"b.caid\")).alias(\"caid_b\"))  \\\n",
    "    .where(col(\"caid_a\") != col(\"caid_b\")) \\\n",
    "    .distinct()\n",
    "\n",
    "print(f\"No. Interacciones sin autointeracciones y sin dupls espejo: {mask.count()}\")"
   ]
  },
  {
   "cell_type": "code",
   "execution_count": 18,
   "metadata": {},
   "outputs": [
    {
     "name": "stderr",
     "output_type": "stream",
     "text": [
      "                                                                                \r"
     ]
    },
    {
     "name": "stdout",
     "output_type": "stream",
     "text": [
      "+--------------------+-------------+--------------------+-------------+\n",
      "|              caid_a|  home_ageb_a|              caid_b|  home_ageb_b|\n",
      "+--------------------+-------------+--------------------+-------------+\n",
      "|d6e1dfa4b3d327724...|0901300010353|d56c609a066ea4268...|0000000000000|\n",
      "|7d9e07321532eb98b...|0000000000000|d99aecc486f329bc3...|1508100190556|\n",
      "|cd915207e9d3c0e67...|0000000000000|2c02f579a8177ec93...|0000000000000|\n",
      "|362fc4cf8b6446301...|0000000000000|334676f8eb10105fb...|0000000000000|\n",
      "|909d779e9e2e937f8...|0000000000000|dc5d4e60505910170...|0000000000000|\n",
      "|a886873c52268baa9...|0000000000000|696a3acab284e9fa2...|0000000000000|\n",
      "|bed65270acf2b648b...|1512001750607|d37740a13df8b8cb5...|1512001750607|\n",
      "|ebfd17e901375e28a...|0000000000000|78916a6140f54ed44...|0000000000000|\n",
      "|3dd5466e625d6c266...|0000000000000|f8f2984262381a7fd...|0000000000000|\n",
      "|1a83c8df3020c6121...|0000000000000|78916a6140f54ed44...|0000000000000|\n",
      "+--------------------+-------------+--------------------+-------------+\n",
      "only showing top 10 rows\n",
      "\n"
     ]
    },
    {
     "name": "stderr",
     "output_type": "stream",
     "text": [
      "                                                                                \r"
     ]
    },
    {
     "name": "stdout",
     "output_type": "stream",
     "text": [
      "No. Interacciones: 10540\n"
     ]
    },
    {
     "name": "stderr",
     "output_type": "stream",
     "text": [
      "[Stage 2131:========================>                            (21 + 24) / 45]5]\r"
     ]
    },
    {
     "name": "stdout",
     "output_type": "stream",
     "text": [
      "No. CAIDs: 21080\n"
     ]
    },
    {
     "name": "stderr",
     "output_type": "stream",
     "text": [
      "                                                                                \r"
     ]
    }
   ],
   "source": [
    "#interactions_table = mask.alias(\"a\").join(interactions_base.alias(\"b\")\n",
    "#        , (mask.caid_a == interactions_base.caid_a) & (mask.caid_b == interactions_base.caid_b)\n",
    "#        , how=\"left\"\n",
    "#    ) \\\n",
    "#    .select(col(\"b.caid_a\").alias(\"caid_a\"), col(\"b.home_ageb_a\").alias(\"home_ageb_a\")\n",
    "#        , col(\"b.caid_b\").alias(\"caid_b\"), col(\"b.home_ageb_b\").alias(\"home_ageb_b\")\n",
    "#    )\n",
    "\n",
    "interactions_table = interactions_base\n",
    "\n",
    "interactions_table.show(10)\n",
    "\n",
    "print(f\"No. Interacciones: {interactions_table.count()}\")\n",
    "print(f\"No. CAIDs: {interactions_table.select('caid_a').union(interactions_table.select('caid_b')).count()}\")"
   ]
  },
  {
   "attachments": {},
   "cell_type": "markdown",
   "metadata": {},
   "source": [
    "# Generación de Redes"
   ]
  },
  {
   "attachments": {},
   "cell_type": "markdown",
   "metadata": {},
   "source": [
    "Se obtiene una tabla con el tamaño de cada AGEB, es decir, el número de individuos (nodos) que se estima viven en un AGEB y que registraron actividad\n",
    "- `home_ageb`: ageb observada\n",
    "- `cardinalidad`: tamaño de población estimada"
   ]
  },
  {
   "cell_type": "code",
   "execution_count": 19,
   "metadata": {},
   "outputs": [
    {
     "name": "stdout",
     "output_type": "stream",
     "text": [
      "root\n",
      " |-- home_ageb: string (nullable = true)\n",
      " |-- cardinalidad: long (nullable = false)\n",
      "\n"
     ]
    },
    {
     "name": "stderr",
     "output_type": "stream",
     "text": [
      "[Stage 2418:=======================================>           (153 + 40) / 200]\r"
     ]
    },
    {
     "name": "stdout",
     "output_type": "stream",
     "text": [
      "+-------------+------------+\n",
      "|    home_ageb|cardinalidad|\n",
      "+-------------+------------+\n",
      "|0000000000000|       26230|\n",
      "|0900200010010|           4|\n",
      "|0900200010025|           2|\n",
      "|090020001003A|           2|\n",
      "|0900200010044|           1|\n",
      "|0900200010097|           2|\n",
      "|090020001010A|           2|\n",
      "|0900200010114|          11|\n",
      "|0900200010129|           9|\n",
      "|0900200010133|           7|\n",
      "+-------------+------------+\n",
      "only showing top 10 rows\n",
      "\n"
     ]
    },
    {
     "name": "stderr",
     "output_type": "stream",
     "text": [
      "                                                                                \r"
     ]
    }
   ],
   "source": [
    "ageb_sizes = pings_table.groupBy(\"home_ageb\").agg(F.count_distinct(\"caid\").alias(\"cardinalidad\")).orderBy(col(\"home_ageb\").asc())\n",
    "ageb_sizes.printSchema()\n",
    "ageb_sizes.show(10)"
   ]
  },
  {
   "attachments": {},
   "cell_type": "markdown",
   "metadata": {},
   "source": [
    "Se obtiene una tabla con el número de enlaces posibles entre todas las AGEBs (incluyendo interacciones dentro de la misma AGEB)\n",
    "\n",
    "- `bloque_a`, `bloque_b`: lugares de origen de los individuos.\n",
    "- `total_enlaces`: número de enlaces posibles entre a y b"
   ]
  },
  {
   "cell_type": "code",
   "execution_count": 20,
   "metadata": {},
   "outputs": [],
   "source": [
    "enlaces_posibles = ageb_sizes.alias(\"a\").crossJoin(ageb_sizes.alias(\"b\")) \\\n",
    "    .withColumn(\"total_enlaces\", F.ceil((col(\"a.cardinalidad\") * col(\"b.cardinalidad\")))) \\\n",
    "    .select(col(\"a.home_ageb\").alias(\"bloque_a\"), col(\"b.home_ageb\").alias(\"bloque_b\"), \"total_enlaces\") \\\n",
    "    .orderBy(col(\"bloque_a\").asc(), col(\"bloque_b\").asc())"
   ]
  },
  {
   "cell_type": "code",
   "execution_count": 21,
   "metadata": {},
   "outputs": [
    {
     "name": "stdout",
     "output_type": "stream",
     "text": [
      "root\n",
      " |-- bloque_a: string (nullable = true)\n",
      " |-- bloque_b: string (nullable = true)\n",
      " |-- total_enlaces: long (nullable = true)\n",
      "\n"
     ]
    },
    {
     "name": "stderr",
     "output_type": "stream",
     "text": [
      "[Stage 2770:>                                                       (0 + 1) / 1]\r"
     ]
    },
    {
     "name": "stdout",
     "output_type": "stream",
     "text": [
      "+-------------+-------------+-------------+\n",
      "|     bloque_a|     bloque_b|total_enlaces|\n",
      "+-------------+-------------+-------------+\n",
      "|0000000000000|0000000000000|    688012900|\n",
      "|0000000000000|0900200010010|       104920|\n",
      "|0000000000000|0900200010025|        52460|\n",
      "|0000000000000|090020001003A|        52460|\n",
      "|0000000000000|0900200010044|        26230|\n",
      "|0000000000000|0900200010097|        52460|\n",
      "|0000000000000|090020001010A|        52460|\n",
      "|0000000000000|0900200010114|       288530|\n",
      "|0000000000000|0900200010129|       236070|\n",
      "|0000000000000|0900200010133|       183610|\n",
      "|0000000000000|0900200010148|        78690|\n",
      "|0000000000000|0900200010167|        78690|\n",
      "|0000000000000|0900200010171|        52460|\n",
      "|0000000000000|0900200010186|       131150|\n",
      "|0000000000000|0900200010190|       209840|\n",
      "|0000000000000|0900200010203|       157380|\n",
      "|0000000000000|0900200010218|        52460|\n",
      "|0000000000000|0900200010222|        78690|\n",
      "|0000000000000|0900200010237|        52460|\n",
      "|0000000000000|0900200010256|        78690|\n",
      "+-------------+-------------+-------------+\n",
      "only showing top 20 rows\n",
      "\n"
     ]
    },
    {
     "name": "stderr",
     "output_type": "stream",
     "text": [
      "                                                                                \r"
     ]
    }
   ],
   "source": [
    "enlaces_posibles.printSchema()\n",
    "enlaces_posibles.show()"
   ]
  },
  {
   "attachments": {},
   "cell_type": "markdown",
   "metadata": {},
   "source": [
    "Se obtiene una tabla con el número de interacciones observadas entre AGEBs (dos a dos):"
   ]
  },
  {
   "cell_type": "code",
   "execution_count": 22,
   "metadata": {},
   "outputs": [],
   "source": [
    "interacciones_observadas = interactions_table.groupBy(\"home_ageb_a\", \"home_ageb_b\").count() \\\n",
    "    .withColumnRenamed(\"count\", \"no_contactos\") \\\n",
    "    .orderBy(col(\"home_ageb_a\").asc(), col(\"home_ageb_b\").asc())"
   ]
  },
  {
   "cell_type": "code",
   "execution_count": 23,
   "metadata": {},
   "outputs": [
    {
     "name": "stdout",
     "output_type": "stream",
     "text": [
      "root\n",
      " |-- home_ageb_a: string (nullable = true)\n",
      " |-- home_ageb_b: string (nullable = true)\n",
      " |-- no_contactos: long (nullable = false)\n",
      "\n"
     ]
    },
    {
     "name": "stderr",
     "output_type": "stream",
     "text": [
      "[Stage 2839:=========================================>         (162 + 38) / 200]\r"
     ]
    },
    {
     "name": "stdout",
     "output_type": "stream",
     "text": [
      "+-------------+-------------+------------+\n",
      "|  home_ageb_a|  home_ageb_b|no_contactos|\n",
      "+-------------+-------------+------------+\n",
      "|0000000000000|0000000000000|        7102|\n",
      "|0000000000000|0900200010190|           5|\n",
      "|0000000000000|0900200010487|           1|\n",
      "|0000000000000|0900200010561|           4|\n",
      "|0000000000000|0900200010684|           5|\n",
      "|0000000000000|0900200010896|           1|\n",
      "|0000000000000|0900200010985|           1|\n",
      "|0000000000000|0900200011165|           1|\n",
      "|0000000000000|0900300010408|           1|\n",
      "|0000000000000|0900300010520|           1|\n",
      "|0000000000000|0900300010573|           2|\n",
      "|0000000000000|0900300010802|           2|\n",
      "|0000000000000|0900300010817|           1|\n",
      "|0000000000000|0900300010963|           1|\n",
      "|0000000000000|0900300010978|           1|\n",
      "|0000000000000|0900300010982|           3|\n",
      "|0000000000000|0900300010997|           1|\n",
      "|0000000000000|0900300011092|           3|\n",
      "|0000000000000|0900300011228|           1|\n",
      "|0000000000000|0900400010091|           1|\n",
      "+-------------+-------------+------------+\n",
      "only showing top 20 rows\n",
      "\n"
     ]
    },
    {
     "name": "stderr",
     "output_type": "stream",
     "text": [
      "                                                                                \r"
     ]
    }
   ],
   "source": [
    "interacciones_observadas.printSchema()\n",
    "interacciones_observadas.show()"
   ]
  },
  {
   "attachments": {},
   "cell_type": "markdown",
   "metadata": {},
   "source": [
    "Se obtiene una tabla con el número de enlaces posibles contra enlaces observados"
   ]
  },
  {
   "cell_type": "code",
   "execution_count": 24,
   "metadata": {},
   "outputs": [],
   "source": [
    "observados_vs_posibles_pre = enlaces_posibles.alias(\"a\").join(interacciones_observadas.alias(\"b\")\n",
    "                                , (enlaces_posibles.bloque_a == interacciones_observadas.home_ageb_a) \n",
    "                                    & (enlaces_posibles.bloque_b == interacciones_observadas.home_ageb_b)\n",
    "                                , how=\"left\"\n",
    "                            ) "
   ]
  },
  {
   "cell_type": "code",
   "execution_count": 25,
   "metadata": {},
   "outputs": [],
   "source": [
    "observados_vs_posibles = observados_vs_posibles_pre.withColumn(\"no_contactos\", F.when(F.isnull(\"no_contactos\"), lit(0)).otherwise(col(\"no_contactos\"))) \\\n",
    "    .select(col(\"bloque_a\").alias(\"bloque_a\"), col(\"bloque_b\").alias(\"bloque_b\"), \"total_enlaces\", \"no_contactos\") \\\n",
    "    .orderBy(col(\"bloque_a\").asc(), col(\"bloque_b\").asc())"
   ]
  },
  {
   "attachments": {},
   "cell_type": "markdown",
   "metadata": {},
   "source": [
    "Tabla de observados y sus posibles valores"
   ]
  },
  {
   "cell_type": "code",
   "execution_count": 26,
   "metadata": {},
   "outputs": [
    {
     "name": "stdout",
     "output_type": "stream",
     "text": [
      "root\n",
      " |-- bloque_a: string (nullable = true)\n",
      " |-- bloque_b: string (nullable = true)\n",
      " |-- total_enlaces: long (nullable = true)\n",
      " |-- no_contactos: long (nullable = true)\n",
      "\n"
     ]
    },
    {
     "name": "stderr",
     "output_type": "stream",
     "text": [
      "[Stage 3413:>                                                       (0 + 1) / 1]]]\r"
     ]
    },
    {
     "name": "stdout",
     "output_type": "stream",
     "text": [
      "+-------------+-------------+-------------+------------+\n",
      "|     bloque_a|     bloque_b|total_enlaces|no_contactos|\n",
      "+-------------+-------------+-------------+------------+\n",
      "|0000000000000|0000000000000|    688012900|        7102|\n",
      "|0000000000000|0900200010010|       104920|           0|\n",
      "|0000000000000|0900200010025|        52460|           0|\n",
      "|0000000000000|090020001003A|        52460|           0|\n",
      "|0000000000000|0900200010044|        26230|           0|\n",
      "|0000000000000|0900200010097|        52460|           0|\n",
      "|0000000000000|090020001010A|        52460|           0|\n",
      "|0000000000000|0900200010114|       288530|           0|\n",
      "|0000000000000|0900200010129|       236070|           0|\n",
      "|0000000000000|0900200010133|       183610|           0|\n",
      "+-------------+-------------+-------------+------------+\n",
      "only showing top 10 rows\n",
      "\n"
     ]
    },
    {
     "name": "stderr",
     "output_type": "stream",
     "text": [
      "                                                                                \r"
     ]
    }
   ],
   "source": [
    "observados_vs_posibles.printSchema()\n",
    "observados_vs_posibles.show(10)"
   ]
  },
  {
   "cell_type": "code",
   "execution_count": 27,
   "metadata": {},
   "outputs": [
    {
     "name": "stderr",
     "output_type": "stream",
     "text": [
      "                                                                                ]9]\r"
     ]
    },
    {
     "name": "stdout",
     "output_type": "stream",
     "text": [
      "+--------+--------+-------------+------------+\n",
      "|bloque_a|bloque_b|total_enlaces|no_contactos|\n",
      "+--------+--------+-------------+------------+\n",
      "+--------+--------+-------------+------------+\n",
      "\n"
     ]
    }
   ],
   "source": [
    "observados_vs_posibles.where(col(\"total_enlaces\") == lit(0)).show()"
   ]
  },
  {
   "cell_type": "code",
   "execution_count": 28,
   "metadata": {},
   "outputs": [
    {
     "name": "stderr",
     "output_type": "stream",
     "text": [
      "                                                                                ]]\r"
     ]
    },
    {
     "name": "stdout",
     "output_type": "stream",
     "text": [
      "+--------+--------+-------------+------------+\n",
      "|bloque_a|bloque_b|total_enlaces|no_contactos|\n",
      "+--------+--------+-------------+------------+\n",
      "+--------+--------+-------------+------------+\n",
      "\n"
     ]
    }
   ],
   "source": [
    "observados_vs_posibles.where(F.isnull(col(\"no_contactos\"))).show()"
   ]
  },
  {
   "attachments": {},
   "cell_type": "markdown",
   "metadata": {},
   "source": [
    "Por cada una de las tablas anteriores se obtiene una matriz asociada (numpy array)"
   ]
  },
  {
   "cell_type": "code",
   "execution_count": 29,
   "metadata": {},
   "outputs": [
    {
     "name": "stderr",
     "output_type": "stream",
     "text": [
      "                                                                                4]\r"
     ]
    },
    {
     "name": "stdout",
     "output_type": "stream",
     "text": [
      "23/02/23 18:18:41 WARN package: Truncated the string representation of a plan since it was too large. This behavior can be adjusted by setting 'spark.sql.debug.maxToStringFields'.\n"
     ]
    },
    {
     "name": "stderr",
     "output_type": "stream",
     "text": [
      "                                                                                ]]\r"
     ]
    },
    {
     "name": "stdout",
     "output_type": "stream",
     "text": [
      "23/02/23 18:18:49 WARN DAGScheduler: Broadcasting large task binary with size 2.8 MiB\n"
     ]
    },
    {
     "name": "stderr",
     "output_type": "stream",
     "text": [
      "                                                                                \r"
     ]
    },
    {
     "data": {
      "text/html": [
       "<div>\n",
       "<style scoped>\n",
       "    .dataframe tbody tr th:only-of-type {\n",
       "        vertical-align: middle;\n",
       "    }\n",
       "\n",
       "    .dataframe tbody tr th {\n",
       "        vertical-align: top;\n",
       "    }\n",
       "\n",
       "    .dataframe thead th {\n",
       "        text-align: right;\n",
       "    }\n",
       "</style>\n",
       "<table border=\"1\" class=\"dataframe\">\n",
       "  <thead>\n",
       "    <tr style=\"text-align: right;\">\n",
       "      <th></th>\n",
       "      <th>bloque_a</th>\n",
       "      <th>0000000000000</th>\n",
       "      <th>0900200010010</th>\n",
       "      <th>0900200010025</th>\n",
       "      <th>090020001003A</th>\n",
       "      <th>0900200010044</th>\n",
       "      <th>0900200010097</th>\n",
       "      <th>090020001010A</th>\n",
       "      <th>0900200010114</th>\n",
       "      <th>0900200010129</th>\n",
       "      <th>...</th>\n",
       "      <th>1512200011031</th>\n",
       "      <th>1512200011050</th>\n",
       "      <th>1512200011065</th>\n",
       "      <th>151220001107A</th>\n",
       "      <th>1512200011084</th>\n",
       "      <th>1512200011099</th>\n",
       "      <th>1512200011135</th>\n",
       "      <th>1512200011154</th>\n",
       "      <th>1512200011192</th>\n",
       "      <th>1512500010020</th>\n",
       "    </tr>\n",
       "  </thead>\n",
       "  <tbody>\n",
       "    <tr>\n",
       "      <th>210</th>\n",
       "      <td>0000000000000</td>\n",
       "      <td>688012900</td>\n",
       "      <td>104920</td>\n",
       "      <td>52460</td>\n",
       "      <td>52460</td>\n",
       "      <td>26230</td>\n",
       "      <td>52460</td>\n",
       "      <td>52460</td>\n",
       "      <td>288530</td>\n",
       "      <td>236070</td>\n",
       "      <td>...</td>\n",
       "      <td>26230</td>\n",
       "      <td>104920</td>\n",
       "      <td>104920</td>\n",
       "      <td>78690</td>\n",
       "      <td>131150</td>\n",
       "      <td>26230</td>\n",
       "      <td>26230</td>\n",
       "      <td>52460</td>\n",
       "      <td>52460</td>\n",
       "      <td>104920</td>\n",
       "    </tr>\n",
       "    <tr>\n",
       "      <th>3011</th>\n",
       "      <td>0900200010010</td>\n",
       "      <td>104920</td>\n",
       "      <td>16</td>\n",
       "      <td>8</td>\n",
       "      <td>8</td>\n",
       "      <td>4</td>\n",
       "      <td>8</td>\n",
       "      <td>8</td>\n",
       "      <td>44</td>\n",
       "      <td>36</td>\n",
       "      <td>...</td>\n",
       "      <td>4</td>\n",
       "      <td>16</td>\n",
       "      <td>16</td>\n",
       "      <td>12</td>\n",
       "      <td>20</td>\n",
       "      <td>4</td>\n",
       "      <td>4</td>\n",
       "      <td>8</td>\n",
       "      <td>8</td>\n",
       "      <td>16</td>\n",
       "    </tr>\n",
       "    <tr>\n",
       "      <th>5306</th>\n",
       "      <td>0900200010025</td>\n",
       "      <td>52460</td>\n",
       "      <td>8</td>\n",
       "      <td>4</td>\n",
       "      <td>4</td>\n",
       "      <td>2</td>\n",
       "      <td>4</td>\n",
       "      <td>4</td>\n",
       "      <td>22</td>\n",
       "      <td>18</td>\n",
       "      <td>...</td>\n",
       "      <td>2</td>\n",
       "      <td>8</td>\n",
       "      <td>8</td>\n",
       "      <td>6</td>\n",
       "      <td>10</td>\n",
       "      <td>2</td>\n",
       "      <td>2</td>\n",
       "      <td>4</td>\n",
       "      <td>4</td>\n",
       "      <td>8</td>\n",
       "    </tr>\n",
       "    <tr>\n",
       "      <th>4945</th>\n",
       "      <td>090020001003A</td>\n",
       "      <td>52460</td>\n",
       "      <td>8</td>\n",
       "      <td>4</td>\n",
       "      <td>4</td>\n",
       "      <td>2</td>\n",
       "      <td>4</td>\n",
       "      <td>4</td>\n",
       "      <td>22</td>\n",
       "      <td>18</td>\n",
       "      <td>...</td>\n",
       "      <td>2</td>\n",
       "      <td>8</td>\n",
       "      <td>8</td>\n",
       "      <td>6</td>\n",
       "      <td>10</td>\n",
       "      <td>2</td>\n",
       "      <td>2</td>\n",
       "      <td>4</td>\n",
       "      <td>4</td>\n",
       "      <td>8</td>\n",
       "    </tr>\n",
       "    <tr>\n",
       "      <th>2019</th>\n",
       "      <td>0900200010044</td>\n",
       "      <td>26230</td>\n",
       "      <td>4</td>\n",
       "      <td>2</td>\n",
       "      <td>2</td>\n",
       "      <td>1</td>\n",
       "      <td>2</td>\n",
       "      <td>2</td>\n",
       "      <td>11</td>\n",
       "      <td>9</td>\n",
       "      <td>...</td>\n",
       "      <td>1</td>\n",
       "      <td>4</td>\n",
       "      <td>4</td>\n",
       "      <td>3</td>\n",
       "      <td>5</td>\n",
       "      <td>1</td>\n",
       "      <td>1</td>\n",
       "      <td>2</td>\n",
       "      <td>2</td>\n",
       "      <td>4</td>\n",
       "    </tr>\n",
       "    <tr>\n",
       "      <th>...</th>\n",
       "      <td>...</td>\n",
       "      <td>...</td>\n",
       "      <td>...</td>\n",
       "      <td>...</td>\n",
       "      <td>...</td>\n",
       "      <td>...</td>\n",
       "      <td>...</td>\n",
       "      <td>...</td>\n",
       "      <td>...</td>\n",
       "      <td>...</td>\n",
       "      <td>...</td>\n",
       "      <td>...</td>\n",
       "      <td>...</td>\n",
       "      <td>...</td>\n",
       "      <td>...</td>\n",
       "      <td>...</td>\n",
       "      <td>...</td>\n",
       "      <td>...</td>\n",
       "      <td>...</td>\n",
       "      <td>...</td>\n",
       "      <td>...</td>\n",
       "    </tr>\n",
       "    <tr>\n",
       "      <th>5151</th>\n",
       "      <td>1512200011099</td>\n",
       "      <td>26230</td>\n",
       "      <td>4</td>\n",
       "      <td>2</td>\n",
       "      <td>2</td>\n",
       "      <td>1</td>\n",
       "      <td>2</td>\n",
       "      <td>2</td>\n",
       "      <td>11</td>\n",
       "      <td>9</td>\n",
       "      <td>...</td>\n",
       "      <td>1</td>\n",
       "      <td>4</td>\n",
       "      <td>4</td>\n",
       "      <td>3</td>\n",
       "      <td>5</td>\n",
       "      <td>1</td>\n",
       "      <td>1</td>\n",
       "      <td>2</td>\n",
       "      <td>2</td>\n",
       "      <td>4</td>\n",
       "    </tr>\n",
       "    <tr>\n",
       "      <th>949</th>\n",
       "      <td>1512200011135</td>\n",
       "      <td>26230</td>\n",
       "      <td>4</td>\n",
       "      <td>2</td>\n",
       "      <td>2</td>\n",
       "      <td>1</td>\n",
       "      <td>2</td>\n",
       "      <td>2</td>\n",
       "      <td>11</td>\n",
       "      <td>9</td>\n",
       "      <td>...</td>\n",
       "      <td>1</td>\n",
       "      <td>4</td>\n",
       "      <td>4</td>\n",
       "      <td>3</td>\n",
       "      <td>5</td>\n",
       "      <td>1</td>\n",
       "      <td>1</td>\n",
       "      <td>2</td>\n",
       "      <td>2</td>\n",
       "      <td>4</td>\n",
       "    </tr>\n",
       "    <tr>\n",
       "      <th>3820</th>\n",
       "      <td>1512200011154</td>\n",
       "      <td>52460</td>\n",
       "      <td>8</td>\n",
       "      <td>4</td>\n",
       "      <td>4</td>\n",
       "      <td>2</td>\n",
       "      <td>4</td>\n",
       "      <td>4</td>\n",
       "      <td>22</td>\n",
       "      <td>18</td>\n",
       "      <td>...</td>\n",
       "      <td>2</td>\n",
       "      <td>8</td>\n",
       "      <td>8</td>\n",
       "      <td>6</td>\n",
       "      <td>10</td>\n",
       "      <td>2</td>\n",
       "      <td>2</td>\n",
       "      <td>4</td>\n",
       "      <td>4</td>\n",
       "      <td>8</td>\n",
       "    </tr>\n",
       "    <tr>\n",
       "      <th>3185</th>\n",
       "      <td>1512200011192</td>\n",
       "      <td>52460</td>\n",
       "      <td>8</td>\n",
       "      <td>4</td>\n",
       "      <td>4</td>\n",
       "      <td>2</td>\n",
       "      <td>4</td>\n",
       "      <td>4</td>\n",
       "      <td>22</td>\n",
       "      <td>18</td>\n",
       "      <td>...</td>\n",
       "      <td>2</td>\n",
       "      <td>8</td>\n",
       "      <td>8</td>\n",
       "      <td>6</td>\n",
       "      <td>10</td>\n",
       "      <td>2</td>\n",
       "      <td>2</td>\n",
       "      <td>4</td>\n",
       "      <td>4</td>\n",
       "      <td>8</td>\n",
       "    </tr>\n",
       "    <tr>\n",
       "      <th>229</th>\n",
       "      <td>1512500010020</td>\n",
       "      <td>104920</td>\n",
       "      <td>16</td>\n",
       "      <td>8</td>\n",
       "      <td>8</td>\n",
       "      <td>4</td>\n",
       "      <td>8</td>\n",
       "      <td>8</td>\n",
       "      <td>44</td>\n",
       "      <td>36</td>\n",
       "      <td>...</td>\n",
       "      <td>4</td>\n",
       "      <td>16</td>\n",
       "      <td>16</td>\n",
       "      <td>12</td>\n",
       "      <td>20</td>\n",
       "      <td>4</td>\n",
       "      <td>4</td>\n",
       "      <td>8</td>\n",
       "      <td>8</td>\n",
       "      <td>16</td>\n",
       "    </tr>\n",
       "  </tbody>\n",
       "</table>\n",
       "<p>5538 rows × 5539 columns</p>\n",
       "</div>"
      ],
      "text/plain": [
       "           bloque_a  0000000000000  0900200010010  0900200010025  \\\n",
       "210   0000000000000      688012900         104920          52460   \n",
       "3011  0900200010010         104920             16              8   \n",
       "5306  0900200010025          52460              8              4   \n",
       "4945  090020001003A          52460              8              4   \n",
       "2019  0900200010044          26230              4              2   \n",
       "...             ...            ...            ...            ...   \n",
       "5151  1512200011099          26230              4              2   \n",
       "949   1512200011135          26230              4              2   \n",
       "3820  1512200011154          52460              8              4   \n",
       "3185  1512200011192          52460              8              4   \n",
       "229   1512500010020         104920             16              8   \n",
       "\n",
       "      090020001003A  0900200010044  0900200010097  090020001010A  \\\n",
       "210           52460          26230          52460          52460   \n",
       "3011              8              4              8              8   \n",
       "5306              4              2              4              4   \n",
       "4945              4              2              4              4   \n",
       "2019              2              1              2              2   \n",
       "...             ...            ...            ...            ...   \n",
       "5151              2              1              2              2   \n",
       "949               2              1              2              2   \n",
       "3820              4              2              4              4   \n",
       "3185              4              2              4              4   \n",
       "229               8              4              8              8   \n",
       "\n",
       "      0900200010114  0900200010129  ...  1512200011031  1512200011050  \\\n",
       "210          288530         236070  ...          26230         104920   \n",
       "3011             44             36  ...              4             16   \n",
       "5306             22             18  ...              2              8   \n",
       "4945             22             18  ...              2              8   \n",
       "2019             11              9  ...              1              4   \n",
       "...             ...            ...  ...            ...            ...   \n",
       "5151             11              9  ...              1              4   \n",
       "949              11              9  ...              1              4   \n",
       "3820             22             18  ...              2              8   \n",
       "3185             22             18  ...              2              8   \n",
       "229              44             36  ...              4             16   \n",
       "\n",
       "      1512200011065  151220001107A  1512200011084  1512200011099  \\\n",
       "210          104920          78690         131150          26230   \n",
       "3011             16             12             20              4   \n",
       "5306              8              6             10              2   \n",
       "4945              8              6             10              2   \n",
       "2019              4              3              5              1   \n",
       "...             ...            ...            ...            ...   \n",
       "5151              4              3              5              1   \n",
       "949               4              3              5              1   \n",
       "3820              8              6             10              2   \n",
       "3185              8              6             10              2   \n",
       "229              16             12             20              4   \n",
       "\n",
       "      1512200011135  1512200011154  1512200011192  1512500010020  \n",
       "210           26230          52460          52460         104920  \n",
       "3011              4              8              8             16  \n",
       "5306              2              4              4              8  \n",
       "4945              2              4              4              8  \n",
       "2019              1              2              2              4  \n",
       "...             ...            ...            ...            ...  \n",
       "5151              1              2              2              4  \n",
       "949               1              2              2              4  \n",
       "3820              2              4              4              8  \n",
       "3185              2              4              4              8  \n",
       "229               4              8              8             16  \n",
       "\n",
       "[5538 rows x 5539 columns]"
      ]
     },
     "execution_count": 29,
     "metadata": {},
     "output_type": "execute_result"
    }
   ],
   "source": [
    "enlaces_totales_df = observados_vs_posibles.select(\"bloque_a\", \"bloque_b\", \"total_enlaces\").orderBy(col(\"bloque_a\").asc(), col(\"bloque_b\").asc())\n",
    "pivoted_enlaces = enlaces_totales_df.groupby(\"bloque_a\").pivot(\"bloque_b\").sum(\"total_enlaces\")\n",
    "\n",
    "matriz_enlaces = pivoted_enlaces.toPandas()\n",
    "matriz_enlaces.sort_values(by=\"bloque_a\")"
   ]
  },
  {
   "cell_type": "code",
   "execution_count": 30,
   "metadata": {},
   "outputs": [],
   "source": [
    "matriz_enlaces_aux = matriz_enlaces.sort_values(by=\"bloque_a\")\n",
    "matriz_enlaces_final = matriz_enlaces_aux.drop(columns=[\"bloque_a\"]).to_numpy()"
   ]
  },
  {
   "cell_type": "code",
   "execution_count": 31,
   "metadata": {},
   "outputs": [
    {
     "data": {
      "text/plain": [
       "(5538, 5538)"
      ]
     },
     "execution_count": 31,
     "metadata": {},
     "output_type": "execute_result"
    }
   ],
   "source": [
    "matriz_enlaces_final.shape"
   ]
  },
  {
   "attachments": {},
   "cell_type": "markdown",
   "metadata": {},
   "source": [
    "Obtencion de matriz de observaciones"
   ]
  },
  {
   "cell_type": "code",
   "execution_count": 32,
   "metadata": {},
   "outputs": [
    {
     "name": "stderr",
     "output_type": "stream",
     "text": [
      "[Stage 5357:==========================================>             (3 + 1) / 4]]]\r"
     ]
    },
    {
     "name": "stdout",
     "output_type": "stream",
     "text": [
      "23/02/23 18:20:31 WARN DAGScheduler: Broadcasting large task binary with size 2.0 MiB\n"
     ]
    },
    {
     "name": "stderr",
     "output_type": "stream",
     "text": [
      "[Stage 5436:=================================================>    (37 + 3) / 40]\r"
     ]
    },
    {
     "name": "stdout",
     "output_type": "stream",
     "text": [
      "23/02/23 18:20:42 WARN DAGScheduler: Broadcasting large task binary with size 4.3 MiB\n"
     ]
    },
    {
     "name": "stderr",
     "output_type": "stream",
     "text": [
      "                                                                                \r"
     ]
    },
    {
     "data": {
      "text/html": [
       "<div>\n",
       "<style scoped>\n",
       "    .dataframe tbody tr th:only-of-type {\n",
       "        vertical-align: middle;\n",
       "    }\n",
       "\n",
       "    .dataframe tbody tr th {\n",
       "        vertical-align: top;\n",
       "    }\n",
       "\n",
       "    .dataframe thead th {\n",
       "        text-align: right;\n",
       "    }\n",
       "</style>\n",
       "<table border=\"1\" class=\"dataframe\">\n",
       "  <thead>\n",
       "    <tr style=\"text-align: right;\">\n",
       "      <th></th>\n",
       "      <th>bloque_a</th>\n",
       "      <th>0000000000000</th>\n",
       "      <th>0900200010010</th>\n",
       "      <th>0900200010025</th>\n",
       "      <th>090020001003A</th>\n",
       "      <th>0900200010044</th>\n",
       "      <th>0900200010097</th>\n",
       "      <th>090020001010A</th>\n",
       "      <th>0900200010114</th>\n",
       "      <th>0900200010129</th>\n",
       "      <th>...</th>\n",
       "      <th>1512200011031</th>\n",
       "      <th>1512200011050</th>\n",
       "      <th>1512200011065</th>\n",
       "      <th>151220001107A</th>\n",
       "      <th>1512200011084</th>\n",
       "      <th>1512200011099</th>\n",
       "      <th>1512200011135</th>\n",
       "      <th>1512200011154</th>\n",
       "      <th>1512200011192</th>\n",
       "      <th>1512500010020</th>\n",
       "    </tr>\n",
       "  </thead>\n",
       "  <tbody>\n",
       "    <tr>\n",
       "      <th>1320</th>\n",
       "      <td>0000000000000</td>\n",
       "      <td>7102</td>\n",
       "      <td>0</td>\n",
       "      <td>0</td>\n",
       "      <td>0</td>\n",
       "      <td>0</td>\n",
       "      <td>0</td>\n",
       "      <td>0</td>\n",
       "      <td>0</td>\n",
       "      <td>0</td>\n",
       "      <td>...</td>\n",
       "      <td>0</td>\n",
       "      <td>0</td>\n",
       "      <td>1</td>\n",
       "      <td>0</td>\n",
       "      <td>0</td>\n",
       "      <td>0</td>\n",
       "      <td>0</td>\n",
       "      <td>0</td>\n",
       "      <td>0</td>\n",
       "      <td>0</td>\n",
       "    </tr>\n",
       "    <tr>\n",
       "      <th>3684</th>\n",
       "      <td>0900200010010</td>\n",
       "      <td>0</td>\n",
       "      <td>0</td>\n",
       "      <td>0</td>\n",
       "      <td>0</td>\n",
       "      <td>0</td>\n",
       "      <td>0</td>\n",
       "      <td>0</td>\n",
       "      <td>0</td>\n",
       "      <td>0</td>\n",
       "      <td>...</td>\n",
       "      <td>0</td>\n",
       "      <td>0</td>\n",
       "      <td>0</td>\n",
       "      <td>0</td>\n",
       "      <td>0</td>\n",
       "      <td>0</td>\n",
       "      <td>0</td>\n",
       "      <td>0</td>\n",
       "      <td>0</td>\n",
       "      <td>0</td>\n",
       "    </tr>\n",
       "    <tr>\n",
       "      <th>3593</th>\n",
       "      <td>0900200010025</td>\n",
       "      <td>0</td>\n",
       "      <td>0</td>\n",
       "      <td>0</td>\n",
       "      <td>0</td>\n",
       "      <td>0</td>\n",
       "      <td>0</td>\n",
       "      <td>0</td>\n",
       "      <td>0</td>\n",
       "      <td>0</td>\n",
       "      <td>...</td>\n",
       "      <td>0</td>\n",
       "      <td>0</td>\n",
       "      <td>0</td>\n",
       "      <td>0</td>\n",
       "      <td>0</td>\n",
       "      <td>0</td>\n",
       "      <td>0</td>\n",
       "      <td>0</td>\n",
       "      <td>0</td>\n",
       "      <td>0</td>\n",
       "    </tr>\n",
       "    <tr>\n",
       "      <th>1315</th>\n",
       "      <td>090020001003A</td>\n",
       "      <td>0</td>\n",
       "      <td>0</td>\n",
       "      <td>0</td>\n",
       "      <td>0</td>\n",
       "      <td>0</td>\n",
       "      <td>0</td>\n",
       "      <td>0</td>\n",
       "      <td>0</td>\n",
       "      <td>0</td>\n",
       "      <td>...</td>\n",
       "      <td>0</td>\n",
       "      <td>0</td>\n",
       "      <td>0</td>\n",
       "      <td>0</td>\n",
       "      <td>0</td>\n",
       "      <td>0</td>\n",
       "      <td>0</td>\n",
       "      <td>0</td>\n",
       "      <td>0</td>\n",
       "      <td>0</td>\n",
       "    </tr>\n",
       "    <tr>\n",
       "      <th>2697</th>\n",
       "      <td>0900200010044</td>\n",
       "      <td>0</td>\n",
       "      <td>0</td>\n",
       "      <td>0</td>\n",
       "      <td>0</td>\n",
       "      <td>0</td>\n",
       "      <td>0</td>\n",
       "      <td>0</td>\n",
       "      <td>0</td>\n",
       "      <td>0</td>\n",
       "      <td>...</td>\n",
       "      <td>0</td>\n",
       "      <td>0</td>\n",
       "      <td>0</td>\n",
       "      <td>0</td>\n",
       "      <td>0</td>\n",
       "      <td>0</td>\n",
       "      <td>0</td>\n",
       "      <td>0</td>\n",
       "      <td>0</td>\n",
       "      <td>0</td>\n",
       "    </tr>\n",
       "    <tr>\n",
       "      <th>...</th>\n",
       "      <td>...</td>\n",
       "      <td>...</td>\n",
       "      <td>...</td>\n",
       "      <td>...</td>\n",
       "      <td>...</td>\n",
       "      <td>...</td>\n",
       "      <td>...</td>\n",
       "      <td>...</td>\n",
       "      <td>...</td>\n",
       "      <td>...</td>\n",
       "      <td>...</td>\n",
       "      <td>...</td>\n",
       "      <td>...</td>\n",
       "      <td>...</td>\n",
       "      <td>...</td>\n",
       "      <td>...</td>\n",
       "      <td>...</td>\n",
       "      <td>...</td>\n",
       "      <td>...</td>\n",
       "      <td>...</td>\n",
       "      <td>...</td>\n",
       "    </tr>\n",
       "    <tr>\n",
       "      <th>5456</th>\n",
       "      <td>1512200011099</td>\n",
       "      <td>0</td>\n",
       "      <td>0</td>\n",
       "      <td>0</td>\n",
       "      <td>0</td>\n",
       "      <td>0</td>\n",
       "      <td>0</td>\n",
       "      <td>0</td>\n",
       "      <td>0</td>\n",
       "      <td>0</td>\n",
       "      <td>...</td>\n",
       "      <td>0</td>\n",
       "      <td>0</td>\n",
       "      <td>0</td>\n",
       "      <td>0</td>\n",
       "      <td>0</td>\n",
       "      <td>0</td>\n",
       "      <td>0</td>\n",
       "      <td>0</td>\n",
       "      <td>0</td>\n",
       "      <td>0</td>\n",
       "    </tr>\n",
       "    <tr>\n",
       "      <th>167</th>\n",
       "      <td>1512200011135</td>\n",
       "      <td>0</td>\n",
       "      <td>0</td>\n",
       "      <td>0</td>\n",
       "      <td>0</td>\n",
       "      <td>0</td>\n",
       "      <td>0</td>\n",
       "      <td>0</td>\n",
       "      <td>0</td>\n",
       "      <td>0</td>\n",
       "      <td>...</td>\n",
       "      <td>0</td>\n",
       "      <td>0</td>\n",
       "      <td>0</td>\n",
       "      <td>0</td>\n",
       "      <td>0</td>\n",
       "      <td>0</td>\n",
       "      <td>0</td>\n",
       "      <td>0</td>\n",
       "      <td>0</td>\n",
       "      <td>0</td>\n",
       "    </tr>\n",
       "    <tr>\n",
       "      <th>768</th>\n",
       "      <td>1512200011154</td>\n",
       "      <td>0</td>\n",
       "      <td>0</td>\n",
       "      <td>0</td>\n",
       "      <td>0</td>\n",
       "      <td>0</td>\n",
       "      <td>0</td>\n",
       "      <td>0</td>\n",
       "      <td>0</td>\n",
       "      <td>0</td>\n",
       "      <td>...</td>\n",
       "      <td>0</td>\n",
       "      <td>0</td>\n",
       "      <td>0</td>\n",
       "      <td>0</td>\n",
       "      <td>0</td>\n",
       "      <td>0</td>\n",
       "      <td>0</td>\n",
       "      <td>0</td>\n",
       "      <td>0</td>\n",
       "      <td>0</td>\n",
       "    </tr>\n",
       "    <tr>\n",
       "      <th>852</th>\n",
       "      <td>1512200011192</td>\n",
       "      <td>0</td>\n",
       "      <td>0</td>\n",
       "      <td>0</td>\n",
       "      <td>0</td>\n",
       "      <td>0</td>\n",
       "      <td>0</td>\n",
       "      <td>0</td>\n",
       "      <td>0</td>\n",
       "      <td>0</td>\n",
       "      <td>...</td>\n",
       "      <td>0</td>\n",
       "      <td>0</td>\n",
       "      <td>0</td>\n",
       "      <td>0</td>\n",
       "      <td>0</td>\n",
       "      <td>0</td>\n",
       "      <td>0</td>\n",
       "      <td>0</td>\n",
       "      <td>0</td>\n",
       "      <td>0</td>\n",
       "    </tr>\n",
       "    <tr>\n",
       "      <th>1440</th>\n",
       "      <td>1512500010020</td>\n",
       "      <td>0</td>\n",
       "      <td>0</td>\n",
       "      <td>0</td>\n",
       "      <td>0</td>\n",
       "      <td>0</td>\n",
       "      <td>0</td>\n",
       "      <td>0</td>\n",
       "      <td>0</td>\n",
       "      <td>0</td>\n",
       "      <td>...</td>\n",
       "      <td>0</td>\n",
       "      <td>0</td>\n",
       "      <td>0</td>\n",
       "      <td>0</td>\n",
       "      <td>0</td>\n",
       "      <td>0</td>\n",
       "      <td>0</td>\n",
       "      <td>0</td>\n",
       "      <td>0</td>\n",
       "      <td>0</td>\n",
       "    </tr>\n",
       "  </tbody>\n",
       "</table>\n",
       "<p>5538 rows × 5539 columns</p>\n",
       "</div>"
      ],
      "text/plain": [
       "           bloque_a  0000000000000  0900200010010  0900200010025  \\\n",
       "1320  0000000000000           7102              0              0   \n",
       "3684  0900200010010              0              0              0   \n",
       "3593  0900200010025              0              0              0   \n",
       "1315  090020001003A              0              0              0   \n",
       "2697  0900200010044              0              0              0   \n",
       "...             ...            ...            ...            ...   \n",
       "5456  1512200011099              0              0              0   \n",
       "167   1512200011135              0              0              0   \n",
       "768   1512200011154              0              0              0   \n",
       "852   1512200011192              0              0              0   \n",
       "1440  1512500010020              0              0              0   \n",
       "\n",
       "      090020001003A  0900200010044  0900200010097  090020001010A  \\\n",
       "1320              0              0              0              0   \n",
       "3684              0              0              0              0   \n",
       "3593              0              0              0              0   \n",
       "1315              0              0              0              0   \n",
       "2697              0              0              0              0   \n",
       "...             ...            ...            ...            ...   \n",
       "5456              0              0              0              0   \n",
       "167               0              0              0              0   \n",
       "768               0              0              0              0   \n",
       "852               0              0              0              0   \n",
       "1440              0              0              0              0   \n",
       "\n",
       "      0900200010114  0900200010129  ...  1512200011031  1512200011050  \\\n",
       "1320              0              0  ...              0              0   \n",
       "3684              0              0  ...              0              0   \n",
       "3593              0              0  ...              0              0   \n",
       "1315              0              0  ...              0              0   \n",
       "2697              0              0  ...              0              0   \n",
       "...             ...            ...  ...            ...            ...   \n",
       "5456              0              0  ...              0              0   \n",
       "167               0              0  ...              0              0   \n",
       "768               0              0  ...              0              0   \n",
       "852               0              0  ...              0              0   \n",
       "1440              0              0  ...              0              0   \n",
       "\n",
       "      1512200011065  151220001107A  1512200011084  1512200011099  \\\n",
       "1320              1              0              0              0   \n",
       "3684              0              0              0              0   \n",
       "3593              0              0              0              0   \n",
       "1315              0              0              0              0   \n",
       "2697              0              0              0              0   \n",
       "...             ...            ...            ...            ...   \n",
       "5456              0              0              0              0   \n",
       "167               0              0              0              0   \n",
       "768               0              0              0              0   \n",
       "852               0              0              0              0   \n",
       "1440              0              0              0              0   \n",
       "\n",
       "      1512200011135  1512200011154  1512200011192  1512500010020  \n",
       "1320              0              0              0              0  \n",
       "3684              0              0              0              0  \n",
       "3593              0              0              0              0  \n",
       "1315              0              0              0              0  \n",
       "2697              0              0              0              0  \n",
       "...             ...            ...            ...            ...  \n",
       "5456              0              0              0              0  \n",
       "167               0              0              0              0  \n",
       "768               0              0              0              0  \n",
       "852               0              0              0              0  \n",
       "1440              0              0              0              0  \n",
       "\n",
       "[5538 rows x 5539 columns]"
      ]
     },
     "execution_count": 32,
     "metadata": {},
     "output_type": "execute_result"
    }
   ],
   "source": [
    "enlaces_obs_df = observados_vs_posibles.select(\"bloque_a\", \"bloque_b\", \"no_contactos\").orderBy(col(\"bloque_a\").asc(), col(\"bloque_b\").asc())\n",
    "pivoted_obs = enlaces_obs_df.groupby(\"bloque_a\").pivot(\"bloque_b\").sum(\"no_contactos\")\n",
    "\n",
    "matriz_obs = pivoted_obs.toPandas()\n",
    "matriz_obs.sort_values(by=\"bloque_a\")"
   ]
  },
  {
   "cell_type": "code",
   "execution_count": 33,
   "metadata": {},
   "outputs": [],
   "source": [
    "matriz_obs_aux = matriz_obs.sort_values(by=\"bloque_a\")\n",
    "matriz_obs_final = matriz_obs_aux.drop(columns=[\"bloque_a\"]).to_numpy()"
   ]
  },
  {
   "cell_type": "code",
   "execution_count": 34,
   "metadata": {},
   "outputs": [
    {
     "data": {
      "text/plain": [
       "(5538, 5538)"
      ]
     },
     "execution_count": 34,
     "metadata": {},
     "output_type": "execute_result"
    }
   ],
   "source": [
    "matriz_obs_final.shape"
   ]
  },
  {
   "attachments": {},
   "cell_type": "markdown",
   "metadata": {},
   "source": [
    "Generacion de Matriz de Probabilidades a partir de la matriz de enlaces totales y la matriz de enlaces observados $P = EO / ET$"
   ]
  },
  {
   "cell_type": "code",
   "execution_count": 35,
   "metadata": {},
   "outputs": [
    {
     "data": {
      "text/plain": [
       "array([[1.03224809e-05, 0.00000000e+00, 0.00000000e+00, ...,\n",
       "        0.00000000e+00, 0.00000000e+00, 0.00000000e+00],\n",
       "       [0.00000000e+00, 0.00000000e+00, 0.00000000e+00, ...,\n",
       "        0.00000000e+00, 0.00000000e+00, 0.00000000e+00],\n",
       "       [0.00000000e+00, 0.00000000e+00, 0.00000000e+00, ...,\n",
       "        0.00000000e+00, 0.00000000e+00, 0.00000000e+00],\n",
       "       ...,\n",
       "       [0.00000000e+00, 0.00000000e+00, 0.00000000e+00, ...,\n",
       "        0.00000000e+00, 0.00000000e+00, 0.00000000e+00],\n",
       "       [0.00000000e+00, 0.00000000e+00, 0.00000000e+00, ...,\n",
       "        0.00000000e+00, 0.00000000e+00, 0.00000000e+00],\n",
       "       [0.00000000e+00, 0.00000000e+00, 0.00000000e+00, ...,\n",
       "        0.00000000e+00, 0.00000000e+00, 0.00000000e+00]])"
      ]
     },
     "execution_count": 35,
     "metadata": {},
     "output_type": "execute_result"
    }
   ],
   "source": [
    "matriz_probs = matriz_obs_final / matriz_enlaces_final\n",
    "\n",
    "matriz_probs"
   ]
  },
  {
   "cell_type": "code",
   "execution_count": 36,
   "metadata": {},
   "outputs": [
    {
     "data": {
      "text/plain": [
       "(5538, 5538)"
      ]
     },
     "execution_count": 36,
     "metadata": {},
     "output_type": "execute_result"
    }
   ],
   "source": [
    "matriz_probs.shape"
   ]
  },
  {
   "cell_type": "code",
   "execution_count": 37,
   "metadata": {},
   "outputs": [
    {
     "data": {
      "text/plain": [
       "array([], shape=(0, 2), dtype=int64)"
      ]
     },
     "execution_count": 37,
     "metadata": {},
     "output_type": "execute_result"
    }
   ],
   "source": [
    "np.argwhere(np.isnan(matriz_probs))"
   ]
  },
  {
   "attachments": {},
   "cell_type": "markdown",
   "metadata": {},
   "source": [
    "Generación de Vector de Tamaños"
   ]
  },
  {
   "cell_type": "code",
   "execution_count": 38,
   "metadata": {},
   "outputs": [
    {
     "name": "stdout",
     "output_type": "stream",
     "text": [
      "root\n",
      " |-- home_ageb: string (nullable = true)\n",
      " |-- cardinalidad: long (nullable = false)\n",
      "\n"
     ]
    }
   ],
   "source": [
    "ageb_sizes.printSchema()"
   ]
  },
  {
   "cell_type": "code",
   "execution_count": 39,
   "metadata": {},
   "outputs": [
    {
     "name": "stderr",
     "output_type": "stream",
     "text": [
      "                                                                                \r"
     ]
    }
   ],
   "source": [
    "sizes = ageb_sizes.orderBy(col(\"home_ageb\").asc()).select(\"cardinalidad\")\n",
    "\n",
    "sizes_final = sizes.toPandas()\n",
    "\n",
    "\n",
    "sizes_final = list(sizes_final[\"cardinalidad\"])"
   ]
  },
  {
   "attachments": {},
   "cell_type": "markdown",
   "metadata": {},
   "source": [
    "# Escalamiento"
   ]
  },
  {
   "attachments": {},
   "cell_type": "markdown",
   "metadata": {},
   "source": [
    "A partir del vector de tamaños original se obtiene un vector derivado de tal forma que la suma total comprenda 10K nodos"
   ]
  },
  {
   "cell_type": "code",
   "execution_count": 40,
   "metadata": {},
   "outputs": [],
   "source": [
    "def escalamiento(df: SparkDataFrame, tam_final: int) -> list[int]:\n",
    "    N = df.select(F.sum(\"cardinalidad\").alias(\"whole_sum\")).collect()[0][\"whole_sum\"]\n",
    "\n",
    "    out = df.withColumn(\"escalado\", ( col(\"cardinalidad\") * lit(tam_final) ) / lit(N) ) \\\n",
    "        .withColumn(\"ceil\", F.ceil(\"escalado\")) \\\n",
    "        .withColumn(\"rounded\", F.ceil(F.round(\"escalado\")))\n",
    "\n",
    "    pandas_aux = out.toPandas()\n",
    "    scale_acc = list(pandas_aux[\"rounded\"])\n",
    "\n",
    "    for index, row in pandas_aux.iterrows():\n",
    "        if row[\"ceil\"] > 0 and scale_acc[index] == 0 :\n",
    "            scale_acc[index] = 1\n",
    "    \n",
    "        if sum(scale_acc) == 10000:\n",
    "            break\n",
    "\n",
    "    only_ageb_tags = list(pandas_aux[\"home_ageb\"])\n",
    "\n",
    "    return scale_acc, list(zip(only_ageb_tags, scale_acc))"
   ]
  },
  {
   "cell_type": "code",
   "execution_count": 41,
   "metadata": {},
   "outputs": [],
   "source": [
    "sizes_df = ageb_sizes.orderBy(col(\"home_ageb\").asc())"
   ]
  },
  {
   "cell_type": "code",
   "execution_count": 42,
   "metadata": {},
   "outputs": [
    {
     "name": "stderr",
     "output_type": "stream",
     "text": [
      "                                                                                \r"
     ]
    },
    {
     "data": {
      "text/plain": [
       "46120"
      ]
     },
     "execution_count": 42,
     "metadata": {},
     "output_type": "execute_result"
    }
   ],
   "source": [
    "sizes_original = list((sizes_df.toPandas())[\"cardinalidad\"])\n",
    "sum(sizes_original)"
   ]
  },
  {
   "cell_type": "code",
   "execution_count": 43,
   "metadata": {},
   "outputs": [
    {
     "name": "stderr",
     "output_type": "stream",
     "text": [
      "                                                                                \r"
     ]
    }
   ],
   "source": [
    "esc, zipped = escalamiento(sizes_df, 10000)\n",
    "assert sum(esc) == 10000"
   ]
  },
  {
   "cell_type": "code",
   "execution_count": 44,
   "metadata": {},
   "outputs": [
    {
     "data": {
      "text/plain": [
       "10000"
      ]
     },
     "execution_count": 44,
     "metadata": {},
     "output_type": "execute_result"
    }
   ],
   "source": [
    "sum(esc)"
   ]
  },
  {
   "attachments": {},
   "cell_type": "markdown",
   "metadata": {},
   "source": [
    "Se genera una colección de 100 redes a partir de la estructura definida por la matriz de probabilidades y los tamaños poblacionales escalados"
   ]
  },
  {
   "cell_type": "code",
   "execution_count": 45,
   "metadata": {},
   "outputs": [
    {
     "name": "stderr",
     "output_type": "stream",
     "text": [
      "                                                                                \r"
     ]
    }
   ],
   "source": [
    "for i in range(305, 406):\n",
    "\n",
    "    sbm = nx.stochastic_block_model(esc, matriz_probs, seed=i)\n",
    "\n",
    "    aux_columns = [\"home_ageb\", \"cardinalidad\"]\n",
    "    ageb_tags_pre = spark.createDataFrame(zipped, aux_columns)\n",
    "\n",
    "    ageb_tags = ageb_tags_pre.orderBy(col(\"home_ageb\").asc()) \\\n",
    "        .withColumn(\"tags\", F.array_repeat(col(\"home_ageb\"), col(\"cardinalidad\").cast(IntegerType()))) \\\n",
    "        .withColumn(\"final_tags\", F.explode(\"tags\")) \\\n",
    "        .select(\"final_tags\")\n",
    "\n",
    "    ageb_tags_pdf = ageb_tags.toPandas()\n",
    "    tags_final = list(ageb_tags_pdf[\"final_tags\"])\n",
    "\n",
    "    assert len(tags_final) == sum(esc)\n",
    "\n",
    "    n=len(list(sbm.nodes())) ##lista con los todos los nodos del modelo generado\n",
    "    enlaces=list(sbm.edges())\n",
    "    bloque= nx.get_node_attributes(sbm, \"block\") ##diccionario con keys:nombre nodo, value: bloque al que pertenece el nodo\n",
    "    bloque= list(bloque.values()) ## lista con solo los values\n",
    "\n",
    "    ##nuevo diccionario\n",
    "    test_keys=list(sbm.nodes())\n",
    "    nuevo_diccionario =  {test_keys[i]: tags_final[i] for i in range(len(test_keys))}\n",
    "\n",
    "    ##Con la info de arriba se hace el nuevo grafo que ya puede escribirse en graphml\n",
    "    g2=nx.empty_graph(n) ##le pongo los mismos nodos\n",
    "    g2.add_edges_from(enlaces) ##le pongo los mismos enlaces\n",
    "    nx.set_node_attributes(g2, nuevo_diccionario, \"block\") ##le agrego un atributo (bloque) a cada nodo\n",
    "\n",
    "    ##Escribo el graphml\n",
    "    nx.write_graphml(g2, f'./graficas/2020/01122020/{DAY}_{MONTH}_{YEAR}_SEED_{i}.graphml')\n"
   ]
  },
  {
   "attachments": {},
   "cell_type": "markdown",
   "metadata": {},
   "source": [
    "# Playground"
   ]
  },
  {
   "cell_type": "code",
   "execution_count": null,
   "metadata": {},
   "outputs": [],
   "source": [
    "matriz_probs.tofile()"
   ]
  },
  {
   "cell_type": "code",
   "execution_count": 226,
   "metadata": {},
   "outputs": [],
   "source": [
    "sbm_original = nx.stochastic_block_model(sizes_original, matriz_probs)\n",
    "sbm_esc = nx.stochastic_block_model(esc, matriz_probs)"
   ]
  },
  {
   "cell_type": "code",
   "execution_count": 227,
   "metadata": {},
   "outputs": [
    {
     "data": {
      "text/plain": [
       "networkx.classes.graph.Graph"
      ]
     },
     "execution_count": 227,
     "metadata": {},
     "output_type": "execute_result"
    }
   ],
   "source": [
    "type(sbm_original)\n",
    "type(sbm_esc)"
   ]
  },
  {
   "cell_type": "code",
   "execution_count": 228,
   "metadata": {},
   "outputs": [],
   "source": [
    "A_original = list(dict(sbm_original.degree).values())\n",
    "A_esc = list(dict(sbm_esc.degree).values())"
   ]
  },
  {
   "cell_type": "code",
   "execution_count": 239,
   "metadata": {},
   "outputs": [
    {
     "data": {
      "text/plain": [
       "<BarContainer object of 10 artists>"
      ]
     },
     "execution_count": 239,
     "metadata": {},
     "output_type": "execute_result"
    },
    {
     "data": {
      "image/png": "[encoded data removed]",
      "text/plain": [
       "<Figure size 640x480 with 2 Axes>"
      ]
     },
     "metadata": {},
     "output_type": "display_data"
    }
   ],
   "source": [
    "fig, (ax1, ax2) = plt.subplots(1, 2)\n",
    "fig.suptitle(\"Comparación Distribución de Grado\")\n",
    "\n",
    "prob_a, bins_a = np.histogram(A_original)\n",
    "prob_a = prob_a/len(A_original)\n",
    "ax1.set_title(f\"Tamaño original {sum(sizes_original)} nodos\")\n",
    "ax1.bar(bins_a[:-1], prob_a)\n",
    "\n",
    "prob_b, bins_b = np.histogram(A_esc)\n",
    "prob_b = prob_b/len(A_esc)\n",
    "ax2.set_title(f\"Tamaño escalado {sum(esc)} nodos\")\n",
    "ax2.bar(bins_b[:-1], prob_b)"
   ]
  },
  {
   "cell_type": "code",
   "execution_count": 230,
   "metadata": {},
   "outputs": [],
   "source": [
    "sbm_aux_original = nx.adjacency_matrix(sbm_original)\n",
    "sbm_aux_esc = nx.adjacency_matrix(sbm_esc)"
   ]
  },
  {
   "cell_type": "code",
   "execution_count": 238,
   "metadata": {},
   "outputs": [
    {
     "data": {
      "text/plain": [
       "<matplotlib.lines.Line2D at 0x7fef9d863430>"
      ]
     },
     "execution_count": 238,
     "metadata": {},
     "output_type": "execute_result"
    },
    {
     "data": {
      "image/png": "[encoded data removed]",
      "text/plain": [
       "<Figure size 640x480 with 2 Axes>"
      ]
     },
     "metadata": {},
     "output_type": "display_data"
    }
   ],
   "source": [
    "fig, (ax1, ax2) = plt.subplots(1, 2)\n",
    "fig.suptitle(\"Comparación Matriz Adyacencias\")\n",
    "\n",
    "ax1.set_title(f\"Tamaño original {sum(sizes_original)} nodos\")\n",
    "ax1.spy(sbm_aux_original)\n",
    "\n",
    "ax2.set_title(f\"Tamaño escalado {sum(esc)} nodos\")\n",
    "ax2.spy(sbm_aux_esc)"
   ]
  },
  {
   "cell_type": "code",
   "execution_count": 232,
   "metadata": {},
   "outputs": [
    {
     "name": "stdout",
     "output_type": "stream",
     "text": [
      "Densidad en red original: 2.3653943345881604e-06\n",
      "Densidad en red escalada: 1.9801980198019803e-06\n"
     ]
    }
   ],
   "source": [
    "print(f\"Densidad en red original: {nx.density(sbm_original)}\")\n",
    "print(f\"Densidad en red escalada: {nx.density(sbm_esc)}\")"
   ]
  },
  {
   "cell_type": "code",
   "execution_count": 233,
   "metadata": {},
   "outputs": [
    {
     "name": "stdout",
     "output_type": "stream",
     "text": [
      "Average Clustering en red original: 0.00011783938934945042\n",
      "Average Clustering en red escalada: 0.0\n"
     ]
    }
   ],
   "source": [
    "print(f\"Average Clustering en red original: {nx.average_clustering(sbm_original)}\")\n",
    "print(f\"Average Clustering en red escalada: {nx.average_clustering(sbm_esc)}\")"
   ]
  },
  {
   "attachments": {},
   "cell_type": "markdown",
   "metadata": {},
   "source": [
    "Posteriormente se escribe en formato GraphML"
   ]
  },
  {
   "cell_type": "code",
   "execution_count": 234,
   "metadata": {},
   "outputs": [],
   "source": [
    "aux_columns = [\"home_ageb\", \"cardinalidad\"]\n",
    "ageb_tags_pre = spark.createDataFrame(zipped, aux_columns)"
   ]
  },
  {
   "cell_type": "code",
   "execution_count": 235,
   "metadata": {},
   "outputs": [],
   "source": [
    "ageb_tags = ageb_tags_pre.orderBy(col(\"home_ageb\").asc()) \\\n",
    "    .withColumn(\"tags\", F.array_repeat(col(\"home_ageb\"), col(\"cardinalidad\").cast(IntegerType()))) \\\n",
    "    .withColumn(\"final_tags\", F.explode(\"tags\")) \\\n",
    "    .select(\"final_tags\")\n",
    "\n",
    "ageb_tags_pdf = ageb_tags.toPandas()\n",
    "tags_final = list(ageb_tags_pdf[\"final_tags\"])"
   ]
  },
  {
   "cell_type": "code",
   "execution_count": 236,
   "metadata": {},
   "outputs": [],
   "source": [
    "assert len(tags_final) == sum(esc)"
   ]
  },
  {
   "cell_type": "code",
   "execution_count": 237,
   "metadata": {},
   "outputs": [],
   "source": [
    "### Reescribir el grafo\n",
    "## Reemplazar 'g1' por el nombre del modelo\n",
    "\n",
    "n=len(list(sbm.nodes())) ##lista con los todos los nodos del modelo generado\n",
    "enlaces=list(sbm.edges())\n",
    "bloque= nx.get_node_attributes(sbm, \"block\") ##diccionario con keys:nombre nodo, value: bloque al que pertenece el nodo\n",
    "bloque= list(bloque.values()) ## lista con solo los values\n",
    "\n",
    "##nuevo diccionario\n",
    "test_keys=list(sbm.nodes())\n",
    "nuevo_diccionario =  {test_keys[i]: tags_final[i] for i in range(len(test_keys))}\n",
    "\n",
    "##Con la info de arriba se hace el nuevo grafo que ya puede escribirse en graphml\n",
    "g2=nx.empty_graph(n) ##le pongo los mismos nodos\n",
    "g2.add_edges_from(enlaces) ##le pongo los mismos enlaces\n",
    "nx.set_node_attributes(g2, nuevo_diccionario, \"block\") ##le agrego un atributo (bloque) a cada nodo\n",
    "\n",
    "##Escribo el graphml\n",
    "nx.write_graphml(g2,'./graficas/2020/03032020/03032020.graphml')"
   ]
  }
 ],
 "metadata": {
  "kernelspec": {
   "display_name": "pyspark_env",
   "language": "python",
   "name": "python3"
  },
  "language_info": {
   "codemirror_mode": {
    "name": "ipython",
    "version": 3
   },
   "file_extension": ".py",
   "mimetype": "text/x-python",
   "name": "python",
   "nbconvert_exporter": "python",
   "pygments_lexer": "ipython3",
   "version": "3.10.6"
  },
  "orig_nbformat": 4,
  "vscode": {
   "interpreter": {
    "hash": "b7bd409b6996c2569cba6db39502a93f28b39ec2cdb7db6bec5bb5a14465574d"
   }
  }
 },
 "nbformat": 4,
 "nbformat_minor": 2
}
